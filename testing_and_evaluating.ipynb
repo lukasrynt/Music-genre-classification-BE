{
 "cells": [
  {
   "cell_type": "markdown",
   "source": [
    "from src.autoencoder.conv_autoencoder import ConvAutoencoder\n",
    "from src.database import Database\n",
    "from src.song import Song\n",
    "import os\n",
    "from soundfile import LibsndfileError\n",
    "from audioread import NoBackendError\n",
    "import torch"
   ],
   "metadata": {
    "collapsed": false,
    "pycharm": {
     "name": "#%% md\n"
    }
   }
  },
  {
   "cell_type": "code",
   "execution_count": 2,
   "outputs": [
    {
     "name": "stderr",
     "output_type": "stream",
     "text": [
      "/home/lukas/Programs/miniconda3/envs/vmm/lib/python3.9/site-packages/librosa/util/decorators.py:88: UserWarning: PySoundFile failed. Trying audioread instead.\n",
      "  return f(*args, **kwargs)\n"
     ]
    },
    {
     "name": "stdout",
     "output_type": "stream",
     "text": [
      "Song at path ./data/jazz/jazz.00054.wav contains invalid data\n"
     ]
    }
   ],
   "source": [
    "GENRES = ['classical', 'jazz', 'rock', 'hiphop', 'reggae', 'country', 'metal']\n",
    "autoencoder = ConvAutoencoder()\n",
    "autoencoder.load_state_dict(torch.load('./autoencoder.pth', map_location=torch.device('cpu')))\n",
    "db = Database('./data/', GENRES, autoencoder=autoencoder, songs_per_genre=70)\n",
    "db.calculate_index()"
   ],
   "metadata": {
    "collapsed": false,
    "pycharm": {
     "name": "#%%\n"
    }
   }
  },
  {
   "cell_type": "code",
   "execution_count": 3,
   "outputs": [],
   "source": [
    "other_song = Song('./data/country/country.00000.wav')\n",
    "other_song.precalculate_embedding(autoencoder)"
   ],
   "metadata": {
    "collapsed": false,
    "pycharm": {
     "name": "#%%\n"
    }
   }
  },
  {
   "cell_type": "code",
   "execution_count": 4,
   "outputs": [
    {
     "data": {
      "text/plain": "{'classical': 14005171.380368233,\n 'jazz': 9615758.985298634,\n 'rock': 5485655.035300732,\n 'hiphop': 5116294.510719299,\n 'reggae': 7877165.333296776,\n 'country': 6791867.8783323765,\n 'metal': 4442366.683151245}"
     },
     "execution_count": 4,
     "metadata": {},
     "output_type": "execute_result"
    }
   ],
   "source": [
    "db.calculate_distances(other_song, strategy='mfcc')"
   ],
   "metadata": {
    "collapsed": false,
    "pycharm": {
     "name": "#%%\n"
    }
   }
  },
  {
   "cell_type": "code",
   "execution_count": 5,
   "outputs": [
    {
     "data": {
      "text/plain": "{'classical': 17754.477492943293,\n 'jazz': 13970.155619497838,\n 'rock': 11017.145569801816,\n 'hiphop': 11634.990981658339,\n 'reggae': 12976.183367585641,\n 'country': 10690.055497432393,\n 'metal': 13225.27153517073}"
     },
     "execution_count": 5,
     "metadata": {},
     "output_type": "execute_result"
    }
   ],
   "source": [
    "db.calculate_distances(other_song, strategy='autoencoder')"
   ],
   "metadata": {
    "collapsed": false,
    "pycharm": {
     "name": "#%%\n"
    }
   }
  },
  {
   "cell_type": "code",
   "execution_count": 6,
   "outputs": [],
   "source": [
    "class Tester:\n",
    "    def __init__(self, root_dir: str, genres, autoencoder, songs_from, songs_to):\n",
    "        self.autoencoder = autoencoder\n",
    "        self.songs_to = songs_to\n",
    "        self.songs_from = songs_from\n",
    "        self.root_dir = root_dir\n",
    "        self.genres = genres\n",
    "        self.db_len = None\n",
    "\n",
    "    def test_each_song(self, db: Database, verbose: bool = False):\n",
    "        mfcc_succ = 0\n",
    "        enc_succ = 0\n",
    "        for song_path, genre in self.__iterate_songs():\n",
    "            if verbose:\n",
    "                print(song_path)\n",
    "            try:\n",
    "                song = Song(song_path, genre)\n",
    "                song.precalculate_embedding(self.autoencoder)\n",
    "                mfcc_genre = self.__get_matching_genre(db, song, 'mfcc')\n",
    "                if mfcc_genre == genre:\n",
    "                    if verbose:\n",
    "                        print('\\t[MFCC] match')\n",
    "                    mfcc_succ += 1\n",
    "                else:\n",
    "                    if verbose:\n",
    "                        print('\\t[MFCC] fail')\n",
    "                enc_genre = self.__get_matching_genre(db, song, 'autoencoder')\n",
    "                if enc_genre == genre:\n",
    "                    if verbose:\n",
    "                        print('\\t[ENC] match')\n",
    "                    enc_succ += 1\n",
    "                else:\n",
    "                    if verbose:\n",
    "                        print('\\t[ENC] fail')\n",
    "            except LibsndfileError:\n",
    "                print('\\tSKIP - contains invalid data')\n",
    "            except NoBackendError:\n",
    "                print('\\tSKIP - contains invalid data')\n",
    "        return mfcc_succ / self.db_len, enc_succ / self.db_len\n",
    "\n",
    "    @staticmethod\n",
    "    def __get_matching_genre(db, song, strategy):\n",
    "        distances = db.calculate_distances(song, strategy=strategy)\n",
    "        sorted_distances = {k: v for k, v in sorted(distances.items(), key=lambda item: item[1])}\n",
    "        match = list(sorted_distances.keys())[0]\n",
    "        return match\n",
    "\n",
    "    def __iterate_songs(self):\n",
    "        songs = {}\n",
    "        for genre in self.genres:\n",
    "            partial_arr = [self.__path_for_song(genre, idx) for idx in range(self.songs_from, self.songs_to)]\n",
    "            songs[genre] = partial_arr\n",
    "        arr = [item for items in songs.values() for item in items]\n",
    "        self.db_len = len(arr)\n",
    "        for genre, items in songs.items():\n",
    "          for item in items:\n",
    "              yield item, genre\n",
    "\n",
    "    def __path_for_song(self, genre: str, idx: int):\n",
    "      return os.path.join(self.root_dir, genre, f\"{genre}.{'{:05d}'.format(idx)}.wav\")"
   ],
   "metadata": {
    "collapsed": false,
    "pycharm": {
     "name": "#%%\n"
    }
   }
  },
  {
   "cell_type": "code",
   "execution_count": 7,
   "outputs": [],
   "source": [
    "tester = Tester('./data/', GENRES, autoencoder, 70, 100)"
   ],
   "metadata": {
    "collapsed": false,
    "pycharm": {
     "name": "#%%\n"
    }
   }
  },
  {
   "cell_type": "code",
   "execution_count": 8,
   "outputs": [
    {
     "name": "stdout",
     "output_type": "stream",
     "text": [
      "MFCC: 38.57%\n",
      "ENC: 33.81%\n"
     ]
    }
   ],
   "source": [
    "mfcc_rate, enc_rate = tester.test_each_song(db)\n",
    "print('MFCC: {0:.2f}%'.format(mfcc_rate * 100))\n",
    "print('ENC: {0:.2f}%'.format(enc_rate * 100))"
   ],
   "metadata": {
    "collapsed": false,
    "pycharm": {
     "name": "#%%\n"
    }
   }
  },
  {
   "cell_type": "code",
   "execution_count": null,
   "outputs": [],
   "source": [],
   "metadata": {
    "collapsed": false,
    "pycharm": {
     "name": "#%%\n"
    }
   }
  }
 ],
 "metadata": {
  "kernelspec": {
   "display_name": "Python 3",
   "language": "python",
   "name": "python3"
  },
  "language_info": {
   "codemirror_mode": {
    "name": "ipython",
    "version": 2
   },
   "file_extension": ".py",
   "mimetype": "text/x-python",
   "name": "python",
   "nbconvert_exporter": "python",
   "pygments_lexer": "ipython2",
   "version": "2.7.6"
  }
 },
 "nbformat": 4,
 "nbformat_minor": 0
}