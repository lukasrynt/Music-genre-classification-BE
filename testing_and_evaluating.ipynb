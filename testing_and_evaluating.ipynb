{
 "cells": [
  {
   "cell_type": "code",
   "execution_count": 10,
   "metadata": {
    "collapsed": true
   },
   "outputs": [],
   "source": [
    "from src.autoencoder.conv_autoencoder import ConvAutoencoder\n",
    "from src.database import Database\n",
    "from src.song import Song"
   ]
  },
  {
   "cell_type": "code",
   "execution_count": 11,
   "outputs": [],
   "source": [
    "autoencoder = ConvAutoencoder()\n",
    "db = Database('./data/', ['classical', 'jazz', 'rock', 'hiphop', 'reggae', 'country', 'metal'], autoencoder=autoencoder, songs_per_genre=50)\n",
    "db.calculate_index()"
   ],
   "metadata": {
    "collapsed": false,
    "pycharm": {
     "name": "#%%\n"
    }
   }
  },
  {
   "cell_type": "code",
   "execution_count": 23,
   "outputs": [],
   "source": [
    "other_song = Song('./data/country/country.00000.wav')\n",
    "other_song.precalculate_embedding(autoencoder)"
   ],
   "metadata": {
    "collapsed": false,
    "pycharm": {
     "name": "#%%\n"
    }
   }
  },
  {
   "cell_type": "code",
   "execution_count": 24,
   "outputs": [
    {
     "data": {
      "text/plain": "{'classical': 10080206.799619675,\n 'jazz': 7731370.367679596,\n 'rock': 3654364.479236126,\n 'hiphop': 3586625.2052412033,\n 'reggae': 5907833.731395721,\n 'country': 4485887.222419977,\n 'metal': 3196967.3275470734}"
     },
     "execution_count": 24,
     "metadata": {},
     "output_type": "execute_result"
    }
   ],
   "source": [
    "db.calculate_distances(other_song, strategy='mfcc')"
   ],
   "metadata": {
    "collapsed": false,
    "pycharm": {
     "name": "#%%\n"
    }
   }
  },
  {
   "cell_type": "code",
   "execution_count": 25,
   "outputs": [
    {
     "data": {
      "text/plain": "{'classical': 147.85862562822706,\n 'jazz': 115.88397596351591,\n 'rock': 97.13568640495527,\n 'hiphop': 99.36587246162239,\n 'reggae': 111.23282320248155,\n 'country': 85.71337733569847,\n 'metal': 114.8008189532616}"
     },
     "execution_count": 25,
     "metadata": {},
     "output_type": "execute_result"
    }
   ],
   "source": [
    "db.calculate_distances(other_song, strategy='autoencoder')"
   ],
   "metadata": {
    "collapsed": false,
    "pycharm": {
     "name": "#%%\n"
    }
   }
  },
  {
   "cell_type": "code",
   "execution_count": null,
   "outputs": [],
   "source": [],
   "metadata": {
    "collapsed": false,
    "pycharm": {
     "name": "#%%\n"
    }
   }
  }
 ],
 "metadata": {
  "kernelspec": {
   "display_name": "Python 3",
   "language": "python",
   "name": "python3"
  },
  "language_info": {
   "codemirror_mode": {
    "name": "ipython",
    "version": 2
   },
   "file_extension": ".py",
   "mimetype": "text/x-python",
   "name": "python",
   "nbconvert_exporter": "python",
   "pygments_lexer": "ipython2",
   "version": "2.7.6"
  }
 },
 "nbformat": 4,
 "nbformat_minor": 0
}