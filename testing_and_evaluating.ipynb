{
 "cells": [
  {
   "cell_type": "code",
   "source": [
    "from src.autoencoder.conv_autoencoder import ConvAutoencoder\n",
    "from src.database import Database\n",
    "from src.song import Song\n",
    "import os\n",
    "import torch"
   ],
   "metadata": {
    "collapsed": false,
    "pycharm": {
     "name": "#%%\n"
    }
   },
   "execution_count": 1,
   "outputs": []
  },
  {
   "cell_type": "code",
   "execution_count": 2,
   "outputs": [],
   "source": [
    "GENRES = ['classical', 'jazz', 'rock', 'hiphop', 'reggae', 'country', 'metal']\n",
    "autoencoder = ConvAutoencoder()\n",
    "autoencoder.load_state_dict(torch.load('./autoencoder.pth', map_location=torch.device('cpu')))\n",
    "db = Database('./data/', GENRES, autoencoder=autoencoder, songs_per_genre=40)\n",
    "db.calculate_index()"
   ],
   "metadata": {
    "collapsed": false,
    "pycharm": {
     "name": "#%%\n"
    }
   }
  },
  {
   "cell_type": "code",
   "execution_count": 3,
   "outputs": [],
   "source": [
    "MFCC = 'MFCC'\n",
    "ENCODER = 'ENCODER'\n",
    "class Tester:\n",
    "    def __init__(self, root_dir: str, genres, autoencoder: ConvAutoencoder, songs_from: int, songs_to: int):\n",
    "        self.autoencoder = autoencoder\n",
    "        self.songs_to = songs_to\n",
    "        self.songs_from = songs_from\n",
    "        self.root_dir = root_dir\n",
    "        self.genres = genres\n",
    "        self.kas = [1,2,3]\n",
    "        self.res = {MFCC: {1: 0, 2: 0, 3: 0},\n",
    "                    ENCODER: {1: 0, 2: 0, 3: 0}}\n",
    "        self.db_len = None\n",
    "\n",
    "    def test_each_song(self, db: Database):\n",
    "        for song_path, genre in self.__iterate_songs():\n",
    "            song = Song(song_path, genre)\n",
    "            song.precalculate_embedding(self.autoencoder)\n",
    "            self.__handle_song(db, song, MFCC)\n",
    "            self.__handle_song(db, song, ENCODER)\n",
    "        for strategy in [MFCC, ENCODER]:\n",
    "            print(strategy)\n",
    "            for k in [1,2,3]:\n",
    "                print(f\"\\tP@{k}: {'{0:.2f}%'.format(self.res[strategy][k] / self.db_len * 100)}\")\n",
    "            print('-'*20)\n",
    "\n",
    "    def __handle_song(self, db: Database, song: Song, strategy: str):\n",
    "        predicted_genres = self.__get_matching_genres(db, song, strategy)\n",
    "        for k in [1, 2, 3]:\n",
    "            if song.genre in predicted_genres[:k]:\n",
    "                self.res[strategy][k] += 1\n",
    "\n",
    "    @staticmethod\n",
    "    def __get_matching_genres(db: Database, song, strategy):\n",
    "        strategy_name = {MFCC: 'mfcc', ENCODER: 'autoencoder'}[strategy]\n",
    "        distances = db.calculate_distances(song, strategy=strategy_name)\n",
    "        sorted_distances = {k: v for k, v in sorted(distances.items(), key=lambda item: item[1])}\n",
    "        return list(sorted_distances.keys())\n",
    "\n",
    "    def __iterate_songs(self):\n",
    "        songs = {}\n",
    "        for genre in self.genres:\n",
    "            partial_arr = [self.__path_for_song(genre, idx) for idx in range(self.songs_from, self.songs_to)]\n",
    "            songs[genre] = partial_arr\n",
    "        arr = [item for items in songs.values() for item in items]\n",
    "        self.db_len = len(arr)\n",
    "        for genre, items in songs.items():\n",
    "          for item in items:\n",
    "              yield item, genre\n",
    "\n",
    "    def __path_for_song(self, genre: str, idx: int):\n",
    "      return os.path.join(self.root_dir, genre, f\"{genre}.{'{:05d}'.format(idx)}.wav\")"
   ],
   "metadata": {
    "collapsed": false,
    "pycharm": {
     "name": "#%%\n"
    }
   }
  },
  {
   "cell_type": "code",
   "execution_count": 4,
   "outputs": [],
   "source": [
    "tester = Tester('./data/', GENRES, autoencoder, 50, 60)"
   ],
   "metadata": {
    "collapsed": false,
    "pycharm": {
     "name": "#%%\n"
    }
   }
  },
  {
   "cell_type": "code",
   "execution_count": 5,
   "outputs": [
    {
     "name": "stdout",
     "output_type": "stream",
     "text": [
      "MFCC\n",
      "\tP@1: 35.71%\n",
      "\tP@2: 48.57%\n",
      "\tP@3: 65.71%\n",
      "--------------------\n",
      "ENCODER\n",
      "\tP@1: 27.14%\n",
      "\tP@2: 51.43%\n",
      "\tP@3: 68.57%\n",
      "--------------------\n"
     ]
    }
   ],
   "source": [
    "tester.test_each_song(db)"
   ],
   "metadata": {
    "collapsed": false,
    "pycharm": {
     "name": "#%%\n"
    }
   }
  }
 ],
 "metadata": {
  "kernelspec": {
   "display_name": "Python 3",
   "language": "python",
   "name": "python3"
  },
  "language_info": {
   "codemirror_mode": {
    "name": "ipython",
    "version": 2
   },
   "file_extension": ".py",
   "mimetype": "text/x-python",
   "name": "python",
   "nbconvert_exporter": "python",
   "pygments_lexer": "ipython2",
   "version": "2.7.6"
  }
 },
 "nbformat": 4,
 "nbformat_minor": 0
}